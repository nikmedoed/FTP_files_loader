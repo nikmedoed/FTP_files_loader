{
 "cells": [
  {
   "cell_type": "code",
   "execution_count": 67,
   "id": "a2eb21f3",
   "metadata": {},
   "outputs": [],
   "source": [
    "user = \"uoolo_33909632\"\n",
    "password = \"KEG5Kkqw\"\n",
    "host = \"ftpupload.net\"\n",
    "port = \"21\"\n",
    "target_path = \"videos\"\n",
    "source_path = \"videos\""
   ]
  },
  {
   "cell_type": "code",
   "execution_count": 68,
   "id": "9f014f17",
   "metadata": {},
   "outputs": [],
   "source": [
    "from ftplib import FTP\n",
    "import os"
   ]
  },
  {
   "cell_type": "code",
   "execution_count": 69,
   "id": "f5d11a7f",
   "metadata": {},
   "outputs": [],
   "source": [
    "if not os.path.exists(target_path):\n",
    "    os.mkdir(target_path)"
   ]
  },
  {
   "cell_type": "code",
   "execution_count": 77,
   "id": "5e797852",
   "metadata": {},
   "outputs": [
    {
     "name": "stdout",
     "output_type": "stream",
     "text": [
      "filelist:\n",
      "\t\n"
     ]
    }
   ],
   "source": [
    "ftp = FTP(host=host, user=user, passwd=password) \n",
    "ftp.cwd(source_path)\n",
    "ftp.nlst()\n",
    "\n",
    "def fileslist(ftp):\n",
    "    level = []\n",
    "    for entry in (path for path in ftp.nlst() if path not in ('.', '..')):        \n",
    "        try:\n",
    "            ftp.cwd(entry)\n",
    "            subfolder =  fileslist(ftp )\n",
    "            ftp.cwd('..')            \n",
    "            if len(subfolder):\n",
    "                level.extend( [f\"{entry}/{i}\" for i in subfolder])\n",
    "            else:\n",
    "                ftp.rmd(entry)\n",
    "        except ftplib.error_perm:\n",
    "            level.append(entry)\n",
    "    return level\n",
    "\n",
    "files = fileslist(ftp)\n",
    "print(f\"filelist:\\n\\t\"+ \"\\n\\t\".join(files))"
   ]
  },
  {
   "cell_type": "code",
   "execution_count": 71,
   "id": "95f72337",
   "metadata": {},
   "outputs": [],
   "source": [
    "for file in files:\n",
    "    print(f\"filtransfer start: {file}\" )\n",
    "    try:\n",
    "        with open(f'{target_path}/{os.path.basename(file)}', 'wb') as local_file:\n",
    "            ftp.retrbinary('RETR ' + file, local_file.write)\n",
    "        ftp.delete(file)\n",
    "    except Exception as e:\n",
    "        print(e)"
   ]
  }
 ],
 "metadata": {
  "kernelspec": {
   "display_name": "Python 3 (ipykernel)",
   "language": "python",
   "name": "python3"
  },
  "language_info": {
   "codemirror_mode": {
    "name": "ipython",
    "version": 3
   },
   "file_extension": ".py",
   "mimetype": "text/x-python",
   "name": "python",
   "nbconvert_exporter": "python",
   "pygments_lexer": "ipython3",
   "version": "3.9.12"
  }
 },
 "nbformat": 4,
 "nbformat_minor": 5
}
